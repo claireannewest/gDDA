{
 "cells": [
  {
   "cell_type": "markdown",
   "metadata": {},
   "source": [
    "## G-dda spectrum"
   ]
  },
  {
   "cell_type": "code",
   "execution_count": 50,
   "metadata": {},
   "outputs": [],
   "source": [
    "import numpy as np\n",
    "import matplotlib.pyplot as plt"
   ]
  },
  {
   "cell_type": "markdown",
   "metadata": {},
   "source": [
    "## Set up\n",
    "Before running the following line, make sure you make your files and your directories. Then, you can run all the directories with the following script."
   ]
  },
  {
   "cell_type": "code",
   "execution_count": 44,
   "metadata": {},
   "outputs": [],
   "source": [
    "%%bash\n",
    "for i in gdda_spectrum/*eV ; do\n",
    "    cd $i\n",
    "    ../../../source_code/ddscat &> output.txt\n",
    "    cd ../../\n",
    "done"
   ]
  },
  {
   "cell_type": "markdown",
   "metadata": {},
   "source": [
    "## Collect data\n",
    "Once the calculation has finished (should take less than a minute for 50 points from 2-3 eV of a 5 nm radius sphere with 1 nm lattice spacing). The following cell will collect all the results and put them in a single file, `Spectrum`"
   ]
  },
  {
   "cell_type": "code",
   "execution_count": 47,
   "metadata": {
    "scrolled": true
   },
   "outputs": [],
   "source": [
    "%%bash\n",
    "for i in gdda_spectrum/*eV ;do\n",
    "    cd $i\n",
    "    cp qtable temp\n",
    "    sed -i -e \"1,14d\" temp\n",
    "    cat temp >>../Spectrum\n",
    "    rm temp\n",
    "    cd ../../\n",
    "done\n",
    "\n"
   ]
  },
  {
   "cell_type": "markdown",
   "metadata": {},
   "source": [
    "## Plot the results!\n",
    "The last step is to plot the results of the simulation."
   ]
  },
  {
   "cell_type": "code",
   "execution_count": 49,
   "metadata": {},
   "outputs": [
    {
     "name": "stdout",
     "output_type": "stream",
     "text": [
      "[[0.5149]]\n"
     ]
    },
    {
     "data": {
      "image/png": "[encoded data removed]",
      "text/plain": [
       "<Figure size 432x288 with 1 Axes>"
      ]
     },
     "metadata": {
      "needs_background": "light"
     },
     "output_type": "display_data"
    }
   ],
   "source": [
    "spectrum = np.loadtxt('gdda_spectrum/Spectrum')\n",
    "plt.plot(spectrum[:,1], spectrum[:,3])\n",
    "idx = np.where(spectrum[:,3] == max(spectrum[:,3]))\n",
    "\n",
    "print(spectrum[idx,1])"
   ]
  },
  {
   "cell_type": "code",
   "execution_count": null,
   "metadata": {},
   "outputs": [],
   "source": []
  }
 ],
 "metadata": {
  "kernelspec": {
   "display_name": "Python 3",
   "language": "python",
   "name": "python3"
  },
  "language_info": {
   "codemirror_mode": {
    "name": "ipython",
    "version": 3
   },
   "file_extension": ".py",
   "mimetype": "text/x-python",
   "name": "python",
   "nbconvert_exporter": "python",
   "pygments_lexer": "ipython3",
   "version": "3.8.3"
  }
 },
 "nbformat": 4,
 "nbformat_minor": 4
}
